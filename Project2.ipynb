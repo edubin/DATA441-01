{
  "nbformat": 4,
  "nbformat_minor": 0,
  "metadata": {
    "colab": {
      "provenance": [],
      "mount_file_id": "1zk5t1q5obaEGzV96-VjZufjtuhEnaYdf",
      "authorship_tag": "ABX9TyP3fiydN5EKxvLutisdND55",
      "include_colab_link": true
    },
    "kernelspec": {
      "name": "python3",
      "display_name": "Python 3"
    },
    "language_info": {
      "name": "python"
    },
    "accelerator": "GPU",
    "gpuClass": "premium"
  },
  "cells": [
    {
      "cell_type": "markdown",
      "metadata": {
        "id": "view-in-github",
        "colab_type": "text"
      },
      "source": [
        "<a href=\"https://colab.research.google.com/github/edubin/DATA441-01/blob/main/Project2.ipynb\" target=\"_parent\"><img src=\"https://colab.research.google.com/assets/colab-badge.svg\" alt=\"Open In Colab\"/></a>"
      ]
    },
    {
      "cell_type": "markdown",
      "source": [
        "[![Open in Colab](https://colab.research.google.com/assets/colab-badge.svg)](https://colab.research.google.com/drive/1zk5t1q5obaEGzV96-VjZufjtuhEnaYdf?usp=sharing)"
      ],
      "metadata": {
        "id": "Dj9Dl5-44wpx"
      }
    },
    {
      "cell_type": "code",
      "source": [
        "import pandas as pd\n",
        "from sklearn.model_selection import train_test_split as tts, KFold, GridSearchCV\n",
        "from sklearn.preprocessing import StandardScaler\n",
        "from scipy.interpolate import interp1d, griddata, LinearNDInterpolator, NearestNDInterpolator\n",
        "from sklearn.ensemble import RandomForestRegressor\n",
        "from sklearn.metrics import mean_squared_error as mse\n",
        "from math import ceil\n",
        "import numpy as np\n",
        "from scipy import linalg"
      ],
      "metadata": {
        "id": "6RIMmYJ_P8Uj"
      },
      "execution_count": 1,
      "outputs": []
    },
    {
      "cell_type": "markdown",
      "source": [
        "## Question 1: Lowess Function\n",
        "\n",
        "Adapt and modify the code for Gramfort’s version of Lowess to accommodate train and test sets with multidimensional features."
      ],
      "metadata": {
        "id": "sPg3KXlA2IBF"
      }
    },
    {
      "cell_type": "code",
      "execution_count": 2,
      "metadata": {
        "id": "QQLZKYtkPr7D"
      },
      "outputs": [],
      "source": [
        "def lowess(x, y, xnew, f=2/3, iter=3, intercept=True):\n",
        "    n = len(x)\n",
        "    r = int(ceil(f * n))\n",
        "\n",
        "    if len(y.shape)==1: \n",
        "      y = y.reshape(-1,1)\n",
        "    if len(x.shape)==1:\n",
        "      x = x.reshape(-1,1)\n",
        "    if intercept:\n",
        "      x1 = np.column_stack([np.ones((len(x),1)),x])\n",
        "    else:\n",
        "      x1 = x\n",
        "\n",
        "    h = [np.sort(np.sqrt(np.sum((x-x[i])**2,axis=1)))[r] for i in range(n)]\n",
        "    d = np.array([np.sqrt(np.sum((x-x[i])**2,axis=1)) for i in range(len(x))])\n",
        "    w = np.clip(d/h, 0.0, 1.0)\n",
        "    w = (1 - w ** 3) ** 3\n",
        "    yest = np.zeros(n)\n",
        "    delta = np.ones(n)\n",
        "    \n",
        "    for iteration in range(iter):\n",
        "        for i in range(n):\n",
        "            weights = np.diag(w[:,i])\n",
        "            b = np.transpose(x1).dot(weights).dot(y)\n",
        "            A = np.transpose(x1).dot(weights).dot(x1) +  0.0001*np.eye(x1.shape[1])\n",
        "            beta = linalg.solve(A, b)\n",
        "            yest[i] = np.dot(x1[i],beta)\n",
        "\n",
        "        residuals = y - yest\n",
        "        s = np.median(np.abs(residuals))\n",
        "        delta = np.clip(residuals / (6.0 * s), -1, 1)\n",
        "        delta = (1 - delta ** 2) ** 2\n",
        "\n",
        "    if x.shape[1]==1:\n",
        "      f = interp1d(x.flatten(),yest,fill_value='extrapolate')\n",
        "    else:\n",
        "      f = LinearNDInterpolator(x, yest)\n",
        "    output = f(xnew) \n",
        "    if sum(np.isnan(output))>0:\n",
        "      g = NearestNDInterpolator(x,y.ravel()) \n",
        "      output[np.isnan(output)] = g(xnew[np.isnan(output)])\n",
        "    return output"
      ]
    },
    {
      "cell_type": "markdown",
      "source": [
        "## Question #2: KFold Cross-Valudation & Real Data\n",
        "\n",
        "Test your new function from 1) on some real data sets with k-Fold cross-validations."
      ],
      "metadata": {
        "id": "JDTtKaWN2VJz"
      }
    },
    {
      "cell_type": "markdown",
      "source": [
        "###Data Set #1 - Cars Data"
      ],
      "metadata": {
        "id": "6eKu74Xc2eHo"
      }
    },
    {
      "cell_type": "code",
      "source": [
        "data = pd.read_csv('drive/MyDrive/Advanced Applied Machine Learning/data/cars.csv')"
      ],
      "metadata": {
        "id": "_9iC1J9_PuE_"
      },
      "execution_count": 3,
      "outputs": []
    },
    {
      "cell_type": "code",
      "source": [
        "x = data.loc[:,'CYL':'WGT'].values\n",
        "y = data['MPG'].values"
      ],
      "metadata": {
        "id": "lv_P9QUfP6sG"
      },
      "execution_count": 4,
      "outputs": []
    },
    {
      "cell_type": "code",
      "source": [
        "scale = StandardScaler()"
      ],
      "metadata": {
        "id": "zzERcnqbTPkL"
      },
      "execution_count": 5,
      "outputs": []
    },
    {
      "cell_type": "code",
      "source": [
        "mse_lwr = []\n",
        "kf = KFold(n_splits=10,shuffle=True,random_state=1234)\n",
        "\n",
        "for idxtrain, idxtest in kf.split(x):\n",
        "  xtrain = x[idxtrain]\n",
        "  ytrain = y[idxtrain]\n",
        "  ytest = y[idxtest]\n",
        "  xtest = x[idxtest]\n",
        "  xtrain = scale.fit_transform(xtrain)\n",
        "  xtest = scale.transform(xtest)\n",
        "  yhat_lw = lowess(xtrain, ytrain, xtest, f=1/3,iter=1,intercept=True)\n",
        " \n",
        "  mse_lwr.append(mse(ytest,yhat_lw))\n",
        "print('The Cross-validated Mean Squared Error for Locally Weighted Regression is : '+str(np.mean(mse_lwr)))"
      ],
      "metadata": {
        "colab": {
          "base_uri": "https://localhost:8080/"
        },
        "id": "kNfRsesguCQf",
        "outputId": "12903f94-7aec-4f9d-8c94-3a7f023b9613"
      },
      "execution_count": 6,
      "outputs": [
        {
          "output_type": "stream",
          "name": "stdout",
          "text": [
            "The Cross-validated Mean Squared Error for Locally Weighted Regression is : 16.838450874085616\n"
          ]
        }
      ]
    },
    {
      "cell_type": "markdown",
      "source": [
        "### Data Set #2 - Concrete Data"
      ],
      "metadata": {
        "id": "JJvBnIil2tFM"
      }
    },
    {
      "cell_type": "code",
      "source": [
        "data = pd.read_csv('drive/MyDrive/Advanced Applied Machine Learning/data/concrete.csv')"
      ],
      "metadata": {
        "id": "ZWQ45Nj503hq"
      },
      "execution_count": 7,
      "outputs": []
    },
    {
      "cell_type": "code",
      "source": [
        "x = data.loc[:,'cement':'coarseagg'].values\n",
        "y = data['strength'].values"
      ],
      "metadata": {
        "id": "ypNbKAhJ1GdQ"
      },
      "execution_count": 8,
      "outputs": []
    },
    {
      "cell_type": "code",
      "source": [
        "mse_lwr = []\n",
        "kf = KFold(n_splits=2,shuffle=True,random_state=1234)\n",
        "\n",
        "for idxtrain, idxtest in kf.split(x):\n",
        "  xtrain = x[idxtrain]\n",
        "  ytrain = y[idxtrain]\n",
        "  ytest = y[idxtest]\n",
        "  xtest = x[idxtest]\n",
        "  xtrain = scale.fit_transform(xtrain)\n",
        "  xtest = scale.transform(xtest)\n",
        "  yhat_lw = lowess(xtrain, ytrain, xtest, f=2/3,iter=1,intercept=True)\n",
        " \n",
        "  mse_lwr.append(mse(ytest,yhat_lw))\n",
        "print('The Cross-validated Mean Squared Error for Locally Weighted Regression is : '+str(np.mean(mse_lwr)))"
      ],
      "metadata": {
        "id": "qT05cgQd2FHo",
        "colab": {
          "base_uri": "https://localhost:8080/"
        },
        "outputId": "204a82d2-f931-464a-c726-0472948f94cc"
      },
      "execution_count": 9,
      "outputs": [
        {
          "output_type": "stream",
          "name": "stdout",
          "text": [
            "The Cross-validated Mean Squared Error for Locally Weighted Regression is : 143.91236310732862\n"
          ]
        }
      ]
    }
  ]
}